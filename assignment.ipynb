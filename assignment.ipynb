{
 "cells": [
  {
   "cell_type": "code",
   "execution_count": 1,
   "metadata": {},
   "outputs": [],
   "source": [
    "import pandas as pd\n",
    "import numpy as np\n",
    "import matplotlib.pyplot as plt\n",
    "import seaborn as sns"
   ]
  },
  {
   "cell_type": "code",
   "execution_count": 2,
   "metadata": {},
   "outputs": [],
   "source": [
    "Test = pd.read_csv('E:/DS/Omneky/test_data.csv')\n",
    "Train = pd.read_csv('E:/DS/Omneky/training_data.csv')"
   ]
  },
  {
   "cell_type": "code",
   "execution_count": 3,
   "metadata": {
    "scrolled": false
   },
   "outputs": [
    {
     "data": {
      "text/html": [
       "<div>\n",
       "<style scoped>\n",
       "    .dataframe tbody tr th:only-of-type {\n",
       "        vertical-align: middle;\n",
       "    }\n",
       "\n",
       "    .dataframe tbody tr th {\n",
       "        vertical-align: top;\n",
       "    }\n",
       "\n",
       "    .dataframe thead th {\n",
       "        text-align: right;\n",
       "    }\n",
       "</style>\n",
       "<table border=\"1\" class=\"dataframe\">\n",
       "  <thead>\n",
       "    <tr style=\"text-align: right;\">\n",
       "      <th></th>\n",
       "      <th>patient_id</th>\n",
       "      <th>standard_lab_parameter_name</th>\n",
       "      <th>parameter_value</th>\n",
       "      <th>unit</th>\n",
       "      <th>created_at</th>\n",
       "      <th>reference_high</th>\n",
       "      <th>reference_low</th>\n",
       "      <th>age_group</th>\n",
       "      <th>gender</th>\n",
       "    </tr>\n",
       "  </thead>\n",
       "  <tbody>\n",
       "    <tr>\n",
       "      <th>0</th>\n",
       "      <td>0</td>\n",
       "      <td>WBC</td>\n",
       "      <td>579.00</td>\n",
       "      <td>10^3/μl</td>\n",
       "      <td>2019-07-02 01:19:03.581</td>\n",
       "      <td>10.0</td>\n",
       "      <td>4.0</td>\n",
       "      <td>old</td>\n",
       "      <td>male</td>\n",
       "    </tr>\n",
       "    <tr>\n",
       "      <th>1</th>\n",
       "      <td>1</td>\n",
       "      <td>T4</td>\n",
       "      <td>5.00</td>\n",
       "      <td>μg/dl</td>\n",
       "      <td>2019-07-02 01:19:03.581</td>\n",
       "      <td>12.0</td>\n",
       "      <td>4.5</td>\n",
       "      <td>old</td>\n",
       "      <td>male</td>\n",
       "    </tr>\n",
       "    <tr>\n",
       "      <th>2</th>\n",
       "      <td>2</td>\n",
       "      <td>WBC</td>\n",
       "      <td>6.81</td>\n",
       "      <td>10^3/μl</td>\n",
       "      <td>2019-05-06 14:07:51.925</td>\n",
       "      <td>10.0</td>\n",
       "      <td>4.0</td>\n",
       "      <td>adult</td>\n",
       "      <td>male</td>\n",
       "    </tr>\n",
       "    <tr>\n",
       "      <th>3</th>\n",
       "      <td>3</td>\n",
       "      <td>T4</td>\n",
       "      <td>5.70</td>\n",
       "      <td>μg/dl</td>\n",
       "      <td>2019-05-06 14:07:51.925</td>\n",
       "      <td>12.0</td>\n",
       "      <td>4.5</td>\n",
       "      <td>adult</td>\n",
       "      <td>male</td>\n",
       "    </tr>\n",
       "    <tr>\n",
       "      <th>4</th>\n",
       "      <td>4</td>\n",
       "      <td>WBC</td>\n",
       "      <td>4.64</td>\n",
       "      <td>10^3/μl</td>\n",
       "      <td>2019-07-21 13:41:00.528523+00:00</td>\n",
       "      <td>10.0</td>\n",
       "      <td>4.0</td>\n",
       "      <td>adult</td>\n",
       "      <td>male</td>\n",
       "    </tr>\n",
       "    <tr>\n",
       "      <th>...</th>\n",
       "      <td>...</td>\n",
       "      <td>...</td>\n",
       "      <td>...</td>\n",
       "      <td>...</td>\n",
       "      <td>...</td>\n",
       "      <td>...</td>\n",
       "      <td>...</td>\n",
       "      <td>...</td>\n",
       "      <td>...</td>\n",
       "    </tr>\n",
       "    <tr>\n",
       "      <th>9995</th>\n",
       "      <td>9995</td>\n",
       "      <td>WBC</td>\n",
       "      <td>9.14</td>\n",
       "      <td>10^3/μl</td>\n",
       "      <td>2019-09-06 16:07:32.846153+00:00</td>\n",
       "      <td>10.0</td>\n",
       "      <td>4.0</td>\n",
       "      <td>adult</td>\n",
       "      <td>male</td>\n",
       "    </tr>\n",
       "    <tr>\n",
       "      <th>9996</th>\n",
       "      <td>9996</td>\n",
       "      <td>WBC</td>\n",
       "      <td>4.90</td>\n",
       "      <td>thou/mm3</td>\n",
       "      <td>2019-11-25 11:53:17.630406+00:00</td>\n",
       "      <td>10.0</td>\n",
       "      <td>4.0</td>\n",
       "      <td>adult</td>\n",
       "      <td>male</td>\n",
       "    </tr>\n",
       "    <tr>\n",
       "      <th>9997</th>\n",
       "      <td>9997</td>\n",
       "      <td>T4</td>\n",
       "      <td>9.80</td>\n",
       "      <td>μg/dl</td>\n",
       "      <td>2019-09-16 13:21:24.372339+00:00</td>\n",
       "      <td>12.0</td>\n",
       "      <td>4.5</td>\n",
       "      <td>old</td>\n",
       "      <td>male</td>\n",
       "    </tr>\n",
       "    <tr>\n",
       "      <th>9998</th>\n",
       "      <td>9998</td>\n",
       "      <td>WBC</td>\n",
       "      <td>4.93</td>\n",
       "      <td>10^3/μl</td>\n",
       "      <td>2019-09-16 13:21:24.372339+00:00</td>\n",
       "      <td>10.0</td>\n",
       "      <td>4.0</td>\n",
       "      <td>old</td>\n",
       "      <td>male</td>\n",
       "    </tr>\n",
       "    <tr>\n",
       "      <th>9999</th>\n",
       "      <td>9999</td>\n",
       "      <td>T4</td>\n",
       "      <td>6.00</td>\n",
       "      <td>μg/dl</td>\n",
       "      <td>2019-09-25 09:43:03.695340+00:00</td>\n",
       "      <td>12.0</td>\n",
       "      <td>4.5</td>\n",
       "      <td>adult</td>\n",
       "      <td>male</td>\n",
       "    </tr>\n",
       "  </tbody>\n",
       "</table>\n",
       "<p>10000 rows × 9 columns</p>\n",
       "</div>"
      ],
      "text/plain": [
       "      patient_id standard_lab_parameter_name  parameter_value      unit  \\\n",
       "0              0                         WBC           579.00   10^3/μl   \n",
       "1              1                          T4             5.00     μg/dl   \n",
       "2              2                         WBC             6.81   10^3/μl   \n",
       "3              3                          T4             5.70     μg/dl   \n",
       "4              4                         WBC             4.64   10^3/μl   \n",
       "...          ...                         ...              ...       ...   \n",
       "9995        9995                         WBC             9.14   10^3/μl   \n",
       "9996        9996                         WBC             4.90  thou/mm3   \n",
       "9997        9997                          T4             9.80     μg/dl   \n",
       "9998        9998                         WBC             4.93   10^3/μl   \n",
       "9999        9999                          T4             6.00     μg/dl   \n",
       "\n",
       "                            created_at  reference_high  reference_low  \\\n",
       "0              2019-07-02 01:19:03.581            10.0            4.0   \n",
       "1              2019-07-02 01:19:03.581            12.0            4.5   \n",
       "2              2019-05-06 14:07:51.925            10.0            4.0   \n",
       "3              2019-05-06 14:07:51.925            12.0            4.5   \n",
       "4     2019-07-21 13:41:00.528523+00:00            10.0            4.0   \n",
       "...                                ...             ...            ...   \n",
       "9995  2019-09-06 16:07:32.846153+00:00            10.0            4.0   \n",
       "9996  2019-11-25 11:53:17.630406+00:00            10.0            4.0   \n",
       "9997  2019-09-16 13:21:24.372339+00:00            12.0            4.5   \n",
       "9998  2019-09-16 13:21:24.372339+00:00            10.0            4.0   \n",
       "9999  2019-09-25 09:43:03.695340+00:00            12.0            4.5   \n",
       "\n",
       "     age_group gender  \n",
       "0          old   male  \n",
       "1          old   male  \n",
       "2        adult   male  \n",
       "3        adult   male  \n",
       "4        adult   male  \n",
       "...        ...    ...  \n",
       "9995     adult   male  \n",
       "9996     adult   male  \n",
       "9997       old   male  \n",
       "9998       old   male  \n",
       "9999     adult   male  \n",
       "\n",
       "[10000 rows x 9 columns]"
      ]
     },
     "execution_count": 3,
     "metadata": {},
     "output_type": "execute_result"
    }
   ],
   "source": [
    "Train"
   ]
  },
  {
   "cell_type": "code",
   "execution_count": 4,
   "metadata": {},
   "outputs": [],
   "source": [
    "Train.drop(columns=['created_at'],inplace=True)\n",
    "Test.drop(columns=['created_at'],inplace=True)"
   ]
  },
  {
   "cell_type": "code",
   "execution_count": 5,
   "metadata": {},
   "outputs": [
    {
     "data": {
      "text/plain": [
       "0       4\n",
       "1       3\n",
       "2       3\n",
       "3       4\n",
       "4       4\n",
       "       ..\n",
       "9995    1\n",
       "9996    2\n",
       "9997    0\n",
       "9998    4\n",
       "9999    1\n",
       "Name: standard_lab_parameter_name, Length: 10000, dtype: int8"
      ]
     },
     "execution_count": 5,
     "metadata": {},
     "output_type": "execute_result"
    }
   ],
   "source": [
    "Train['standard_lab_parameter_name'] = Train['standard_lab_parameter_name'].astype('category')\n",
    "Train['standard_lab_parameter_name'] = Train['standard_lab_parameter_name'].cat.codes\n",
    "Train['standard_lab_parameter_name']\n",
    "Test['standard_lab_parameter_name'] = Test['standard_lab_parameter_name'].astype('category')\n",
    "Test['standard_lab_parameter_name'] = Test['standard_lab_parameter_name'].cat.codes\n",
    "Test['standard_lab_parameter_name']"
   ]
  },
  {
   "cell_type": "code",
   "execution_count": 6,
   "metadata": {},
   "outputs": [
    {
     "data": {
      "text/plain": [
       "0       0\n",
       "1       0\n",
       "2       0\n",
       "3       0\n",
       "4       2\n",
       "       ..\n",
       "9995    0\n",
       "9996    0\n",
       "9997    0\n",
       "9998    0\n",
       "9999    0\n",
       "Name: age_group, Length: 10000, dtype: int8"
      ]
     },
     "execution_count": 6,
     "metadata": {},
     "output_type": "execute_result"
    }
   ],
   "source": [
    "Train['age_group'] = Train['age_group'].astype('category')\n",
    "Train['age_group'] = Train['age_group'].cat.codes\n",
    "Train['age_group']\n",
    "Test['age_group'] = Test['age_group'].astype('category')\n",
    "Test['age_group'] = Test['age_group'].cat.codes\n",
    "Test['age_group']"
   ]
  },
  {
   "cell_type": "code",
   "execution_count": 7,
   "metadata": {},
   "outputs": [
    {
     "data": {
      "text/plain": [
       "0       3\n",
       "1       3\n",
       "2       3\n",
       "3       3\n",
       "4       3\n",
       "       ..\n",
       "9995    3\n",
       "9996    3\n",
       "9997    3\n",
       "9998    3\n",
       "9999    3\n",
       "Name: gender, Length: 10000, dtype: int8"
      ]
     },
     "execution_count": 7,
     "metadata": {},
     "output_type": "execute_result"
    }
   ],
   "source": [
    "Train['gender'] = Train['gender'].astype('category')\n",
    "Train['gender'] = Train['gender'].cat.codes\n",
    "Train['gender']"
   ]
  },
  {
   "cell_type": "code",
   "execution_count": 8,
   "metadata": {},
   "outputs": [
    {
     "data": {
      "text/plain": [
       "0        5\n",
       "1       20\n",
       "2       20\n",
       "3        5\n",
       "4        0\n",
       "        ..\n",
       "9995    18\n",
       "9996    12\n",
       "9997    12\n",
       "9998     4\n",
       "9999    18\n",
       "Name: unit, Length: 10000, dtype: int8"
      ]
     },
     "execution_count": 8,
     "metadata": {},
     "output_type": "execute_result"
    }
   ],
   "source": [
    "Train['unit'] = Train['unit'].astype('category')\n",
    "Train['unit'] = Train['unit'].cat.codes\n",
    "Train['unit']\n",
    "Test['unit'] = Test['unit'].astype('category')\n",
    "Test['unit'] = Test['unit'].cat.codes\n",
    "Test['unit']"
   ]
  },
  {
   "cell_type": "code",
   "execution_count": 9,
   "metadata": {},
   "outputs": [
    {
     "name": "stdout",
     "output_type": "stream",
     "text": [
      "<class 'pandas.core.frame.DataFrame'>\n",
      "RangeIndex: 10000 entries, 0 to 9999\n",
      "Data columns (total 8 columns):\n",
      " #   Column                       Non-Null Count  Dtype  \n",
      "---  ------                       --------------  -----  \n",
      " 0   patient_id                   10000 non-null  int64  \n",
      " 1   standard_lab_parameter_name  10000 non-null  int8   \n",
      " 2   parameter_value              10000 non-null  float64\n",
      " 3   unit                         10000 non-null  int8   \n",
      " 4   reference_high               10000 non-null  float64\n",
      " 5   reference_low                10000 non-null  float64\n",
      " 6   age_group                    10000 non-null  int8   \n",
      " 7   gender                       10000 non-null  int8   \n",
      "dtypes: float64(3), int64(1), int8(4)\n",
      "memory usage: 351.7 KB\n",
      "<class 'pandas.core.frame.DataFrame'>\n",
      "RangeIndex: 10000 entries, 0 to 9999\n",
      "Data columns (total 7 columns):\n",
      " #   Column                       Non-Null Count  Dtype  \n",
      "---  ------                       --------------  -----  \n",
      " 0   patient_id                   10000 non-null  int64  \n",
      " 1   standard_lab_parameter_name  10000 non-null  int8   \n",
      " 2   parameter_value              10000 non-null  float64\n",
      " 3   unit                         10000 non-null  int8   \n",
      " 4   reference_high               10000 non-null  float64\n",
      " 5   reference_low                10000 non-null  float64\n",
      " 6   age_group                    10000 non-null  int8   \n",
      "dtypes: float64(3), int64(1), int8(3)\n",
      "memory usage: 341.9 KB\n"
     ]
    }
   ],
   "source": [
    "Train.info()\n",
    "Test.info()"
   ]
  },
  {
   "cell_type": "code",
   "execution_count": 10,
   "metadata": {},
   "outputs": [
    {
     "data": {
      "text/plain": [
       "<AxesSubplot:>"
      ]
     },
     "execution_count": 10,
     "metadata": {},
     "output_type": "execute_result"
    },
    {
     "data": {
      "image/png": "[encoded data removed]",
      "text/plain": [
       "<Figure size 864x720 with 2 Axes>"
      ]
     },
     "metadata": {
      "needs_background": "light"
     },
     "output_type": "display_data"
    }
   ],
   "source": [
    "plt.figure(figsize=(12,10))\n",
    "sns.heatmap(Train.isnull())"
   ]
  },
  {
   "cell_type": "code",
   "execution_count": 11,
   "metadata": {},
   "outputs": [
    {
     "data": {
      "text/plain": [
       "<AxesSubplot:>"
      ]
     },
     "execution_count": 11,
     "metadata": {},
     "output_type": "execute_result"
    },
    {
     "data": {
      "image/png": "[encoded data removed]",
      "text/plain": [
       "<Figure size 864x720 with 2 Axes>"
      ]
     },
     "metadata": {
      "needs_background": "light"
     },
     "output_type": "display_data"
    }
   ],
   "source": [
    "plt.figure(figsize=(12,10))\n",
    "sns.heatmap(Test.isnull())"
   ]
  },
  {
   "cell_type": "code",
   "execution_count": 12,
   "metadata": {},
   "outputs": [
    {
     "data": {
      "text/plain": [
       "<AxesSubplot:>"
      ]
     },
     "execution_count": 12,
     "metadata": {},
     "output_type": "execute_result"
    },
    {
     "data": {
      "image/png": "[encoded data removed]",
      "text/plain": [
       "<Figure size 432x288 with 1 Axes>"
      ]
     },
     "metadata": {
      "needs_background": "light"
     },
     "output_type": "display_data"
    }
   ],
   "source": [
    "Train.boxplot()"
   ]
  },
  {
   "cell_type": "code",
   "execution_count": 13,
   "metadata": {},
   "outputs": [
    {
     "data": {
      "text/plain": [
       "<AxesSubplot:>"
      ]
     },
     "execution_count": 13,
     "metadata": {},
     "output_type": "execute_result"
    },
    {
     "data": {
      "image/png": "[encoded data removed]",
      "text/plain": [
       "<Figure size 432x288 with 1 Axes>"
      ]
     },
     "metadata": {
      "needs_background": "light"
     },
     "output_type": "display_data"
    }
   ],
   "source": [
    "Test.boxplot()"
   ]
  },
  {
   "cell_type": "code",
   "execution_count": 14,
   "metadata": {},
   "outputs": [],
   "source": [
    "X = Train.iloc[:,:7]\n",
    "y = Train.gender"
   ]
  },
  {
   "cell_type": "code",
   "execution_count": 15,
   "metadata": {},
   "outputs": [],
   "source": [
    "from sklearn.model_selection import train_test_split\n",
    "X_train, X_test, y_train, y_test = train_test_split(X,y, test_size=0.2, random_state=0)"
   ]
  },
  {
   "cell_type": "code",
   "execution_count": 16,
   "metadata": {},
   "outputs": [],
   "source": [
    "from sklearn.linear_model import LogisticRegression\n",
    "classification = LogisticRegression()"
   ]
  },
  {
   "cell_type": "code",
   "execution_count": 17,
   "metadata": {},
   "outputs": [
    {
     "name": "stderr",
     "output_type": "stream",
     "text": [
      "C:\\Users\\DELL\\anaconda3\\lib\\site-packages\\sklearn\\linear_model\\_logistic.py:762: ConvergenceWarning: lbfgs failed to converge (status=1):\n",
      "STOP: TOTAL NO. of ITERATIONS REACHED LIMIT.\n",
      "\n",
      "Increase the number of iterations (max_iter) or scale the data as shown in:\n",
      "    https://scikit-learn.org/stable/modules/preprocessing.html\n",
      "Please also refer to the documentation for alternative solver options:\n",
      "    https://scikit-learn.org/stable/modules/linear_model.html#logistic-regression\n",
      "  n_iter_i = _check_optimize_result(\n"
     ]
    },
    {
     "data": {
      "text/plain": [
       "LogisticRegression()"
      ]
     },
     "execution_count": 17,
     "metadata": {},
     "output_type": "execute_result"
    }
   ],
   "source": [
    "classification.fit(X_train, y_train)"
   ]
  },
  {
   "cell_type": "code",
   "execution_count": 18,
   "metadata": {},
   "outputs": [],
   "source": [
    "y_pred = classification.predict(X_test)"
   ]
  },
  {
   "cell_type": "code",
   "execution_count": 19,
   "metadata": {},
   "outputs": [
    {
     "name": "stdout",
     "output_type": "stream",
     "text": [
      "              precision    recall  f1-score   support\n",
      "\n",
      "           1       0.00      0.00      0.00       223\n",
      "           3       0.89      1.00      0.94      1777\n",
      "\n",
      "    accuracy                           0.89      2000\n",
      "   macro avg       0.44      0.50      0.47      2000\n",
      "weighted avg       0.79      0.89      0.84      2000\n",
      "\n"
     ]
    },
    {
     "name": "stderr",
     "output_type": "stream",
     "text": [
      "C:\\Users\\DELL\\anaconda3\\lib\\site-packages\\sklearn\\metrics\\_classification.py:1221: UndefinedMetricWarning: Precision and F-score are ill-defined and being set to 0.0 in labels with no predicted samples. Use `zero_division` parameter to control this behavior.\n",
      "  _warn_prf(average, modifier, msg_start, len(result))\n"
     ]
    }
   ],
   "source": [
    "from sklearn import metrics\n",
    "print(metrics.classification_report(y_test, y_pred))"
   ]
  },
  {
   "cell_type": "code",
   "execution_count": 20,
   "metadata": {},
   "outputs": [
    {
     "data": {
      "text/plain": [
       "0.8885"
      ]
     },
     "execution_count": 20,
     "metadata": {},
     "output_type": "execute_result"
    }
   ],
   "source": [
    "from sklearn.metrics import accuracy_score\n",
    "accuracy_score(y_test, y_pred)"
   ]
  },
  {
   "cell_type": "code",
   "execution_count": 21,
   "metadata": {},
   "outputs": [],
   "source": [
    "numpy_array=classification.predict(Test)"
   ]
  },
  {
   "cell_type": "code",
   "execution_count": 22,
   "metadata": {},
   "outputs": [
    {
     "data": {
      "text/plain": [
       "array([3, 3, 3, ..., 3, 3, 3], dtype=int8)"
      ]
     },
     "execution_count": 22,
     "metadata": {},
     "output_type": "execute_result"
    }
   ],
   "source": [
    "numpy_array"
   ]
  },
  {
   "cell_type": "code",
   "execution_count": 23,
   "metadata": {},
   "outputs": [],
   "source": [
    "df1 = pd.DataFrame(numpy_array)"
   ]
  },
  {
   "cell_type": "code",
   "execution_count": 24,
   "metadata": {},
   "outputs": [
    {
     "data": {
      "text/html": [
       "<div>\n",
       "<style scoped>\n",
       "    .dataframe tbody tr th:only-of-type {\n",
       "        vertical-align: middle;\n",
       "    }\n",
       "\n",
       "    .dataframe tbody tr th {\n",
       "        vertical-align: top;\n",
       "    }\n",
       "\n",
       "    .dataframe thead th {\n",
       "        text-align: right;\n",
       "    }\n",
       "</style>\n",
       "<table border=\"1\" class=\"dataframe\">\n",
       "  <thead>\n",
       "    <tr style=\"text-align: right;\">\n",
       "      <th></th>\n",
       "      <th>patient_id</th>\n",
       "      <th>standard_lab_parameter_name</th>\n",
       "      <th>parameter_value</th>\n",
       "      <th>unit</th>\n",
       "      <th>reference_high</th>\n",
       "      <th>reference_low</th>\n",
       "      <th>age_group</th>\n",
       "      <th>0</th>\n",
       "    </tr>\n",
       "  </thead>\n",
       "  <tbody>\n",
       "    <tr>\n",
       "      <th>0</th>\n",
       "      <td>0</td>\n",
       "      <td>4</td>\n",
       "      <td>8.10</td>\n",
       "      <td>5</td>\n",
       "      <td>10.0</td>\n",
       "      <td>4.0</td>\n",
       "      <td>0</td>\n",
       "      <td>3</td>\n",
       "    </tr>\n",
       "    <tr>\n",
       "      <th>1</th>\n",
       "      <td>1</td>\n",
       "      <td>3</td>\n",
       "      <td>13.00</td>\n",
       "      <td>20</td>\n",
       "      <td>12.0</td>\n",
       "      <td>4.5</td>\n",
       "      <td>0</td>\n",
       "      <td>3</td>\n",
       "    </tr>\n",
       "    <tr>\n",
       "      <th>2</th>\n",
       "      <td>2</td>\n",
       "      <td>3</td>\n",
       "      <td>7.10</td>\n",
       "      <td>20</td>\n",
       "      <td>12.0</td>\n",
       "      <td>4.5</td>\n",
       "      <td>0</td>\n",
       "      <td>3</td>\n",
       "    </tr>\n",
       "    <tr>\n",
       "      <th>3</th>\n",
       "      <td>3</td>\n",
       "      <td>4</td>\n",
       "      <td>5.62</td>\n",
       "      <td>5</td>\n",
       "      <td>10.0</td>\n",
       "      <td>4.0</td>\n",
       "      <td>0</td>\n",
       "      <td>3</td>\n",
       "    </tr>\n",
       "    <tr>\n",
       "      <th>4</th>\n",
       "      <td>4</td>\n",
       "      <td>4</td>\n",
       "      <td>9350.00</td>\n",
       "      <td>0</td>\n",
       "      <td>10000.0</td>\n",
       "      <td>4000.0</td>\n",
       "      <td>2</td>\n",
       "      <td>3</td>\n",
       "    </tr>\n",
       "    <tr>\n",
       "      <th>...</th>\n",
       "      <td>...</td>\n",
       "      <td>...</td>\n",
       "      <td>...</td>\n",
       "      <td>...</td>\n",
       "      <td>...</td>\n",
       "      <td>...</td>\n",
       "      <td>...</td>\n",
       "      <td>...</td>\n",
       "    </tr>\n",
       "    <tr>\n",
       "      <th>9995</th>\n",
       "      <td>9995</td>\n",
       "      <td>1</td>\n",
       "      <td>14.00</td>\n",
       "      <td>18</td>\n",
       "      <td>55.0</td>\n",
       "      <td>0.0</td>\n",
       "      <td>0</td>\n",
       "      <td>3</td>\n",
       "    </tr>\n",
       "    <tr>\n",
       "      <th>9996</th>\n",
       "      <td>9996</td>\n",
       "      <td>2</td>\n",
       "      <td>135.00</td>\n",
       "      <td>12</td>\n",
       "      <td>145.0</td>\n",
       "      <td>135.0</td>\n",
       "      <td>0</td>\n",
       "      <td>3</td>\n",
       "    </tr>\n",
       "    <tr>\n",
       "      <th>9997</th>\n",
       "      <td>9997</td>\n",
       "      <td>0</td>\n",
       "      <td>102.00</td>\n",
       "      <td>12</td>\n",
       "      <td>108.0</td>\n",
       "      <td>98.0</td>\n",
       "      <td>0</td>\n",
       "      <td>3</td>\n",
       "    </tr>\n",
       "    <tr>\n",
       "      <th>9998</th>\n",
       "      <td>9998</td>\n",
       "      <td>4</td>\n",
       "      <td>6.00</td>\n",
       "      <td>4</td>\n",
       "      <td>10.0</td>\n",
       "      <td>4.0</td>\n",
       "      <td>0</td>\n",
       "      <td>3</td>\n",
       "    </tr>\n",
       "    <tr>\n",
       "      <th>9999</th>\n",
       "      <td>9999</td>\n",
       "      <td>1</td>\n",
       "      <td>18.00</td>\n",
       "      <td>18</td>\n",
       "      <td>59.0</td>\n",
       "      <td>14.0</td>\n",
       "      <td>0</td>\n",
       "      <td>3</td>\n",
       "    </tr>\n",
       "  </tbody>\n",
       "</table>\n",
       "<p>10000 rows × 8 columns</p>\n",
       "</div>"
      ],
      "text/plain": [
       "      patient_id  standard_lab_parameter_name  parameter_value  unit  \\\n",
       "0              0                            4             8.10     5   \n",
       "1              1                            3            13.00    20   \n",
       "2              2                            3             7.10    20   \n",
       "3              3                            4             5.62     5   \n",
       "4              4                            4          9350.00     0   \n",
       "...          ...                          ...              ...   ...   \n",
       "9995        9995                            1            14.00    18   \n",
       "9996        9996                            2           135.00    12   \n",
       "9997        9997                            0           102.00    12   \n",
       "9998        9998                            4             6.00     4   \n",
       "9999        9999                            1            18.00    18   \n",
       "\n",
       "      reference_high  reference_low  age_group  0  \n",
       "0               10.0            4.0          0  3  \n",
       "1               12.0            4.5          0  3  \n",
       "2               12.0            4.5          0  3  \n",
       "3               10.0            4.0          0  3  \n",
       "4            10000.0         4000.0          2  3  \n",
       "...              ...            ...        ... ..  \n",
       "9995            55.0            0.0          0  3  \n",
       "9996           145.0          135.0          0  3  \n",
       "9997           108.0           98.0          0  3  \n",
       "9998            10.0            4.0          0  3  \n",
       "9999            59.0           14.0          0  3  \n",
       "\n",
       "[10000 rows x 8 columns]"
      ]
     },
     "execution_count": 24,
     "metadata": {},
     "output_type": "execute_result"
    }
   ],
   "source": [
    "df = pd.concat([Test,df1], axis=1)\n",
    "df"
   ]
  }
 ],
 "metadata": {
  "kernelspec": {
   "display_name": "Python 3",
   "language": "python",
   "name": "python3"
  },
  "language_info": {
   "codemirror_mode": {
    "name": "ipython",
    "version": 3
   },
   "file_extension": ".py",
   "mimetype": "text/x-python",
   "name": "python",
   "nbconvert_exporter": "python",
   "pygments_lexer": "ipython3",
   "version": "3.8.5"
  }
 },
 "nbformat": 4,
 "nbformat_minor": 4
}
