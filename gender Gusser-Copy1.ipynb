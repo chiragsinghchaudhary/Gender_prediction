{
 "cells": [
  {
   "cell_type": "code",
   "execution_count": 1,
   "id": "b31654c1",
   "metadata": {},
   "outputs": [
    {
     "name": "stdout",
     "output_type": "stream",
     "text": [
      "unknown\n",
      "male\n",
      "unknown\n"
     ]
    }
   ],
   "source": [
    "import gender_guesser.detector as gender\n",
    "d = gender.Detector()\n",
    "\n",
    "\n",
    "print(d.get_gender(u\"chirag\"))\n",
    "#male\n",
    "print(d.get_gender(u\"Aman\"))\n",
    "#female\n",
    "print(d.get_gender(u\"balveer\")) # should be androgynous\n",
    "#andy"
   ]
  },
  {
   "cell_type": "code",
   "execution_count": 2,
   "id": "308674d5",
   "metadata": {},
   "outputs": [],
   "source": [
    "from guess_indian_gender import IndianGenderPredictor\n",
    "i = IndianGenderPredictor()\n",
    "pred=i.predict(\"aa\")"
   ]
  },
  {
   "cell_type": "code",
   "execution_count": 3,
   "id": "191d0d18",
   "metadata": {},
   "outputs": [
    {
     "data": {
      "text/plain": [
       "'male'"
      ]
     },
     "execution_count": 3,
     "metadata": {},
     "output_type": "execute_result"
    }
   ],
   "source": [
    "pred"
   ]
  },
  {
   "cell_type": "code",
   "execution_count": 4,
   "id": "b2fdbccc",
   "metadata": {},
   "outputs": [
    {
     "data": {
      "text/plain": [
       "'female'"
      ]
     },
     "execution_count": 4,
     "metadata": {},
     "output_type": "execute_result"
    }
   ],
   "source": [
    "i.predict('anju')"
   ]
  },
  {
   "cell_type": "code",
   "execution_count": null,
   "id": "bc984b90",
   "metadata": {},
   "outputs": [],
   "source": [
    "pd.DataFrame({'pred_lin_regr': pd.Series(i.predict(aa))})"
   ]
  },
  {
   "cell_type": "code",
   "execution_count": null,
   "id": "7db4a18b",
   "metadata": {},
   "outputs": [],
   "source": [
    "df['Gender'] = df['Vehicle Owner name'].apply(lambda x: i.predict(x))"
   ]
  },
  {
   "cell_type": "code",
   "execution_count": null,
   "id": "d56a6d26",
   "metadata": {},
   "outputs": [],
   "source": []
  }
 ],
 "metadata": {
  "kernelspec": {
   "display_name": "Python 3 (ipykernel)",
   "language": "python",
   "name": "python3"
  },
  "language_info": {
   "codemirror_mode": {
    "name": "ipython",
    "version": 3
   },
   "file_extension": ".py",
   "mimetype": "text/x-python",
   "name": "python",
   "nbconvert_exporter": "python",
   "pygments_lexer": "ipython3",
   "version": "3.9.7"
  }
 },
 "nbformat": 4,
 "nbformat_minor": 5
}
